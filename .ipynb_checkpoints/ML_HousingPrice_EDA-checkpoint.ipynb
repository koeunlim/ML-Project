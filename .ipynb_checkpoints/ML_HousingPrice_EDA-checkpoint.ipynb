{
 "cells": [
  {
   "cell_type": "markdown",
   "metadata": {},
   "source": [
    "# NYCDSA Machine Learning Project - House Prices\n",
    "\n",
    "For this project, the primary task is to employ machine learning techniques to accurately make predictions given a dataset. The framework will be through the lens of the House Prices: Advanced Regression Techniques from Kaggle. While the primary goal of Kaggle competitions is generally focused on predictive accuracy, it expected to lead the audience through descriptive insights as well. For the purposes of the project, aim is to not only create a model that predicts well, but also to describe data insights drawn from exploration."
   ]
  },
  {
   "cell_type": "code",
   "execution_count": null,
   "metadata": {},
   "outputs": [],
   "source": []
  }
 ],
 "metadata": {
  "kernelspec": {
   "display_name": "Python 3",
   "language": "python",
   "name": "python3"
  },
  "language_info": {
   "codemirror_mode": {
    "name": "ipython",
    "version": 3
   },
   "file_extension": ".py",
   "mimetype": "text/x-python",
   "name": "python",
   "nbconvert_exporter": "python",
   "pygments_lexer": "ipython3",
   "version": "3.7.4"
  }
 },
 "nbformat": 4,
 "nbformat_minor": 4
}
