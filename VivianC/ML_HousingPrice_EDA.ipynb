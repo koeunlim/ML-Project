{
 "cells": [
  {
   "cell_type": "markdown",
   "metadata": {},
   "source": [
    "# NYCDSA Machine Learning Project - House Prices\n",
    "\n",
    "For this project, the primary task is to employ machine learning techniques to accurately make predictions given a dataset. The framework will be through the lens of the House Prices: Advanced Regression Techniques from Kaggle. While the primary goal of Kaggle competitions is generally focused on predictive accuracy, it expected to lead the audience through descriptive insights as well. For the purposes of the project, aim is to not only create a model that predicts well, but also to describe data insights drawn from exploration."
   ]
  },
  {
   "cell_type": "code",
   "execution_count": null,
   "metadata": {},
   "outputs": [],
   "source": [
    "xmodel=xgb.XGBRegressor(nthread= -1,gpu_id=-1)\n",
    "# set the parameter grid\n",
    "grid_para = {'min_child_weight': [1,2], # default = 1\n",
    "             'gamma': [0, 0.025, 0.055, 0.075], # default = 0\n",
    "             'reg_alpha': [0], # default = 0\n",
    "             \"learning_rate\": [0.05, 0.078, 0.1], #  default=0.3\n",
    "             'subsample': [0.2,0.3,0.4], # default =1\n",
    "             'colsample_bytree': [0.4, 0.5, 0.6], # default =1\n",
    "             'max_depth': [2,3,4], # default =6\n",
    "             \"n_estimators\": [100,125,137,150],\n",
    "             'random_state' :[1]\n",
    "}\n",
    "# run the XGB regressor through the grid search\n",
    "grid_search_xmodel = ms.GridSearchCV(xmodel, grid_para, scoring='neg_root_mean_squared_error', cv=5, n_jobs= -1, verbose=4)\n",
    "grid_search_xmodel.fit(Xu_train, yu_train)"
   ]
  }
 ],
 "metadata": {
  "kernelspec": {
   "display_name": "Python 3",
   "language": "python",
   "name": "python3"
  },
  "language_info": {
   "codemirror_mode": {
    "name": "ipython",
    "version": 3
   },
   "file_extension": ".py",
   "mimetype": "text/x-python",
   "name": "python",
   "nbconvert_exporter": "python",
   "pygments_lexer": "ipython3",
   "version": "3.7.4"
  }
 },
 "nbformat": 4,
 "nbformat_minor": 4
}
